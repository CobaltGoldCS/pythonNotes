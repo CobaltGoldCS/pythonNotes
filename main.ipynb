{
 "nbformat": 4,
 "nbformat_minor": 2,
 "metadata": {
  "language_info": {
   "name": "python",
   "codemirror_mode": {
    "name": "ipython",
    "version": 3
   },
   "version": "3.8.0-final"
  },
  "orig_nbformat": 2,
  "file_extension": ".py",
  "mimetype": "text/x-python",
  "name": "python",
  "npconvert_exporter": "python",
  "pygments_lexer": "ipython3",
  "version": 3,
  "kernelspec": {
   "name": "python38032bit7e6f30da257c402dacd5e88b4f10cd30",
   "display_name": "Python 3.8.0 32-bit"
  }
 },
 "cells": [
  {
   "cell_type": "markdown",
   "execution_count": null,
   "metadata": {},
   "outputs": [],
   "source": [
    "# Advanced python 3.8 syntax stuff"
   ]
  },
  {
   "cell_type": "markdown",
   "execution_count": null,
   "metadata": {},
   "outputs": [],
   "source": [
    "## 1. List comprehension"
   ]
  },
  {
   "cell_type": "markdown",
   "metadata": {},
   "source": [
    "### Made for creating lists from other groups of data quickly"
   ]
  },
  {
   "cell_type": "code",
   "execution_count": 63,
   "metadata": {},
   "outputs": [
    {
     "name": "stdout",
     "output_type": "stream",
     "text": "[2, 4, 6]\n"
    }
   ],
   "source": [
    "oldList = [1,2,3,4,5,6,7]\n",
    "newList = []\n",
    "for item in oldList:\n",
    "    if item % 2 == 0:\n",
    "        newList.append(item)\n",
    "print(newList)\n"
   ]
  },
  {
   "cell_type": "markdown",
   "execution_count": null,
   "metadata": {},
   "outputs": [],
   "source": [
    "Now with _list comprehension_"
   ]
  },
  {
   "cell_type": "code",
   "execution_count": 64,
   "metadata": {},
   "outputs": [
    {
     "name": "stdout",
     "output_type": "stream",
     "text": "[2, 4, 6]\n"
    }
   ],
   "source": [
    "oldList = [1,2,3,4,5,6,7]\n",
    "newlist = [item for item in oldList if item % 2 == 0]\n",
    "print(newList)"
   ]
  },
  {
   "cell_type": "markdown",
   "execution_count": null,
   "metadata": {},
   "outputs": [],
   "source": [
    "This is a very simple example of list comprehension.  \n",
    "The basic idea is  \n",
    "<dl>\n",
    "<dt>Expression / Value</dt>\n",
    "<dd>This is the actual value that is put into your list</dd>\n",
    "<dt>Iteration</dt>\n",
    "<dd>This is just getting the values with a for loop (usually)</dd>\n",
    "<dt>Condition</dt>\n",
    "<dd>This will only put in values that meet these requirements</dd>\n",
    "</dl>\n",
    "``` newList = [ expression----iteration(usually a for loop)----(optional)condition] ``` </br>\n",
    "``` newList = [ item*2--------for item in oldList--------------if item % 2 == 0] ```"
   ]
  },
  {
   "cell_type": "code",
   "execution_count": 65,
   "metadata": {},
   "outputs": [
    {
     "name": "stdout",
     "output_type": "stream",
     "text": "[2, 4, 6]\n"
    }
   ],
   "source": [
    "# condition roughly translates into if a number(i) divided by two has a remainder of zero\n",
    "condition = lambda i: i % 2 == 0\n",
    "\n",
    "evenNumbers = [item for item in oldList  if condition(item)] \n",
    "print(evenNumbers)"
   ]
  },
  {
   "cell_type": "markdown",
   "metadata": {},
   "source": [
    "There is another cool feature of list comprehension, __multiple conditionals__"
   ]
  },
  {
   "cell_type": "code",
   "execution_count": 66,
   "metadata": {},
   "outputs": [
    {
     "name": "stdout",
     "output_type": "stream",
     "text": "[0, 6, 12, 18, 24, 30, 36, 42, 48, 54, 60, 66, 72, 78, 84, 90, 96]\n"
    }
   ],
   "source": [
    "\n",
    "threeTwo = [item for item in range(100)  if item % 2 == 0 if item % 3 == 0] \n",
    "print(threeTwo)"
   ]
  },
  {
   "cell_type": "code",
   "execution_count": 67,
   "metadata": {},
   "outputs": [
    {
     "name": "stdout",
     "output_type": "stream",
     "text": "['even', 'odd', 'even', 'odd', 'even', 'odd', 'even', 'odd', 'even', 'odd', 'even', 'odd', 'even', 'odd', 'even', 'odd', 'even', 'odd', 'even', 'odd']\n"
    }
   ],
   "source": [
    "evenOrOdd = [('even' if item % 2 == 0 else 'odd') for item in range(20)]\n",
    "print(evenOrOdd)"
   ]
  },
  {
   "cell_type": "markdown",
   "metadata": {},
   "source": [
    "The value can be changed depending on any conditionals you put with it inside parentheses"
   ]
  },
  {
   "cell_type": "markdown",
   "metadata": {},
   "source": [
    "### 1.3 Walrus operator"
   ]
  },
  {
   "cell_type": "code",
   "execution_count": 68,
   "metadata": {},
   "outputs": [
    {
     "name": "stdout",
     "output_type": "stream",
     "text": "[64, 95, 75, 68, 81, 97, 65, 89, 60, 80, 93, 53]\n"
    }
   ],
   "source": [
    "from random import randint\n",
    "ranVal = lambda: randint(30,100)\n",
    "\n",
    "greaterThan50 = [value for _ in range(20) if (value := ranVal()) > 50]\n",
    "print(greaterThan50)"
   ]
  },
  {
   "cell_type": "markdown",
   "metadata": {},
   "source": [
    "The walrus operator (:=) allows you to run an operation while assigning a variable to the output simultaneously.  \n",
    "For 'if' statments, if the statement is true, then it will assign the value. If it is false, however, there will be  \n",
    "nothing to add to the table."
   ]
  },
  {
   "cell_type": "code",
   "execution_count": 69,
   "metadata": {},
   "outputs": [
    {
     "name": "stdout",
     "output_type": "stream",
     "text": "[31, 42, 50, 56, 43, 56, 54, 52, 37]\n"
    }
   ],
   "source": [
    "ranVal = lambda: randint(30,100)\n",
    "\n",
    "lessThan60 = [value for _ in range(20) if (value := ranVal()) < 60]\n",
    "print(lessThan60)"
   ]
  },
  {
   "cell_type": "markdown",
   "metadata": {},
   "source": [
    "```if (value := ranVal()) < 60``` < if this condition is true, the walrus operator will assign ranVal to value (```value := ranVal()```)"
   ]
  },
  {
   "cell_type": "markdown",
   "metadata": {},
   "source": [
    "This can be used outside of list comprehensions and if statements for all kinds of things. ~~I hope I explained this well~~"
   ]
  },
  {
   "cell_type": "markdown",
   "metadata": {},
   "source": [
    "### 1.5 Set Comprehension"
   ]
  },
  {
   "cell_type": "markdown",
   "metadata": {},
   "source": [
    "Set comprehensions are almost the same as list comprehensions, the only difference is they won't take duplicates"
   ]
  },
  {
   "cell_type": "code",
   "execution_count": 70,
   "metadata": {},
   "outputs": [
    {
     "name": "stdout",
     "output_type": "stream",
     "text": "{0, 2, 4, 6}\n"
    }
   ],
   "source": [
    "oldList = [0,0,0,2,3,6,4,2,7,5]\n",
    "evenNumbers = {item for item in oldList  if item % 2 == 0}\n",
    "print(evenNumbers)"
   ]
  },
  {
   "cell_type": "code",
   "execution_count": 71,
   "metadata": {},
   "outputs": [],
   "source": [
    "# Just deleting all of the variables we defined\n",
    "del oldList\n",
    "del evenNumbers\n",
    "del threeTwo\n",
    "del newList\n",
    "del condition"
   ]
  },
  {
   "cell_type": "markdown",
   "execution_count": null,
   "metadata": {},
   "outputs": [],
   "source": [
    "## 2. Dictionary Comprehension"
   ]
  },
  {
   "cell_type": "markdown",
   "metadata": {},
   "source": [
    "Dictionary comprehension should be self explanatory after list comprehension."
   ]
  },
  {
   "cell_type": "code",
   "execution_count": 72,
   "metadata": {},
   "outputs": [
    {
     "name": "stdout",
     "output_type": "stream",
     "text": "{1: 2, 2: 4, 3: 6, 4: 8, 5: 10, 6: 12}\n"
    }
   ],
   "source": [
    "first_dict = {1:1, 2:2, 3:3, 4:4, 5:5, 6:6}\n",
    "second_dict = {key:val*2 for key,val in first_dict.items()}\n",
    "print(second_dict)"
   ]
  },
  {
   "cell_type": "markdown",
   "metadata": {},
   "source": [
    "It's the same basic idea as the normal list, except you also have to define the _key_ as well.  \n",
    "```dictionary = {key:value----iteration----(optional)conditionals}```  \n",
    "Of course, you can use conditionals, they just have to be at the end of the dictionary"
   ]
  },
  {
   "cell_type": "code",
   "execution_count": 73,
   "metadata": {},
   "outputs": [
    {
     "name": "stdout",
     "output_type": "stream",
     "text": "{2: 4, 4: 8, 6: 12}\n"
    }
   ],
   "source": [
    "second_dict = {key:val*2 for key,val in first_dict.items() if key % 2 == 0}\n",
    "print(second_dict)"
   ]
  },
  {
   "cell_type": "markdown",
   "metadata": {},
   "source": [
    "_Multiple_ conditionals in a row are also vaild in a dictionary"
   ]
  },
  {
   "cell_type": "code",
   "execution_count": 74,
   "metadata": {},
   "outputs": [
    {
     "name": "stdout",
     "output_type": "stream",
     "text": "{6: 12}\n"
    }
   ],
   "source": [
    "second_dict = {key:val*2 for key,val in first_dict.items() if key % 2 == 0 if key % 3 == 0}\n",
    "print(second_dict)"
   ]
  },
  {
   "cell_type": "code",
   "execution_count": 75,
   "metadata": {},
   "outputs": [
    {
     "name": "stdout",
     "output_type": "stream",
     "text": "{0: 'even', 1: 'odd', 2: 'even', 3: 'odd', 4: 'even', 5: 'odd', 6: 'even', 7: 'odd', 8: 'even', 9: 'odd', 10: 'even', 11: 'odd', 12: 'even', 13: 'odd', 14: 'even', 15: 'odd', 16: 'even', 17: 'odd', 18: 'even', 19: 'odd'}\n"
    }
   ],
   "source": [
    "second_dict = {val:('even' if val % 2 == 0 else 'odd') for val in range(20)}\n",
    "print(second_dict)"
   ]
  },
  {
   "cell_type": "markdown",
   "metadata": {},
   "source": [
    "The area in the parentheses in this example defines the entire value of the index"
   ]
  },
  {
   "cell_type": "markdown",
   "metadata": {},
   "source": [
    "__Nested dictionaries__ are crazy dictionary comprehension tools for more specific cases"
   ]
  },
  {
   "cell_type": "code",
   "execution_count": 76,
   "metadata": {},
   "outputs": [
    {
     "name": "stdout",
     "output_type": "stream",
     "text": "{'first': {1.0}, 'second': {2.0}}\n"
    }
   ],
   "source": [
    "nested_dict = {'first':{'a':1}, 'second':{'b':2}}\n",
    "float_dict = {outer_k: {float(inner_v) for (inner_k, inner_v) in outer_v.items()} for (outer_k, outer_v) in nested_dict.items()}\n",
    "print(float_dict)"
   ]
  },
  {
   "cell_type": "markdown",
   "metadata": {},
   "source": [
    "Using dictionary comprehension _as a value_ inside another dictionary comprehension is possible, though not used very often"
   ]
  }
 ]
}