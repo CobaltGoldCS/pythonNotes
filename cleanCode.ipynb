{
 "cells": [
  {
   "cell_type": "markdown",
   "metadata": {},
   "source": [
    "# Clean Code"
   ]
  },
  {
   "cell_type": "markdown",
   "metadata": {},
   "source": [
    "The single most important part to clean code is to make it as readable as possible, I will use Python as an example because of how you need to stay organised  \n",
    "to even run code properly."
   ]
  },
  {
   "cell_type": "code",
   "execution_count": null,
   "metadata": {},
   "outputs": [],
   "source": [
    "x = [0, 2, 4, 6, 8, 10] # Bad code because we do not know what this variable stands for\n",
    "evens = [0, 2, 4, 6, 8, 10] # Way better understandable variable name"
   ]
  },
  {
   "cell_type": "markdown",
   "metadata": {},
   "source": [
    "__naming variables__ with understandable names is probably the easiest thing to do that will increase readability instantly"
   ]
  },
  {
   "cell_type": "code",
   "execution_count": 2,
   "metadata": {},
   "outputs": [
    {
     "output_type": "stream",
     "name": "stdout",
     "text": "['partner', 'partner', 'partner']\n"
    }
   ],
   "source": [
    "client_data = \"Random value\"\n",
    "buyer_metadata = \"Different value\" # Bad naming scheme because there is no connections through names\n",
    "partner_partners = [\"List\", \"of\", \"random\", \"values\"]\n",
    "\n",
    "# Better naming\n",
    "client_data = None\n",
    "client_metadata = None\n",
    "client_partners = None\n",
    "\n",
    "# Even better is to connect these values togther by using a class\n",
    "# Much easier and better organisation\n",
    "# Documentation built in\n",
    "class Client:\n",
    "    \"\"\"Class for buisness partners\"\"\"\n",
    "    def __init__(self, data: str, metadata: str, partners: list):\n",
    "        self.data = data\n",
    "        self.metadata = metadata\n",
    "        self.partners = partners\n",
    "tesla = Client(\"Random Values\", \"Different values\", [\"partner\", \"partner\", \"partner\"])\n",
    "print(tesla.partners)"
   ]
  },
  {
   "cell_type": "markdown",
   "metadata": {},
   "source": [
    "For checking if statements with only if and else, __you don't need to use multiple lines__, you can make them look much cleaner and easier to read by putting  \n",
    "them on one line."
   ]
  },
  {
   "cell_type": "code",
   "execution_count": 2,
   "metadata": {},
   "outputs": [
    {
     "output_type": "stream",
     "name": "stdout",
     "text": "False\n"
    }
   ],
   "source": [
    "# Bad code\n",
    "tested = False\n",
    "if not tested:\n",
    "    tested = False\n",
    "else:\n",
    "    tested = True\n",
    "print(tested)"
   ]
  },
  {
   "cell_type": "code",
   "execution_count": 3,
   "metadata": {},
   "outputs": [
    {
     "output_type": "stream",
     "name": "stdout",
     "text": "False\n"
    }
   ],
   "source": [
    "# Good code\n",
    "tested = False\n",
    "tested = False if not tested else True\n",
    "print(tested)"
   ]
  },
  {
   "cell_type": "markdown",
   "metadata": {},
   "source": [
    "__Docstrings__ are a built in feature of python. They allow seamless intergration of documentation inside python files. __Type Anottation__ is usful for  \n",
    "documenting expected types for attributes"
   ]
  },
  {
   "cell_type": "code",
   "execution_count": 11,
   "metadata": {},
   "outputs": [
    {
     "output_type": "stream",
     "name": "stdout",
     "text": "1. This is an example of a docstring\n\n\n2. \n    Info\n    --------------\n    returns the variable \"returns\"\n    \n    Attributes\n    --------------\n    :param value: A value of any type \n\n    :param returns: A value that gets returned\n    \n2.3. this\n\n\n3. 12\n3.5. {'value': <class 'int'>, 'return': <class 'int'>}\n"
    }
   ],
   "source": [
    "def docstring():\n",
    "    \"\"\"This is an example of a docstring\"\"\"\n",
    "\n",
    "def expDoc(value, returns):\n",
    "    \"\"\"\n",
    "    Info\n",
    "    --------------\n",
    "    returns the variable \"returns\"\n",
    "    \n",
    "    Attributes\n",
    "    --------------\n",
    "    :param value: A value of any type \\n\n",
    "    :param returns: A value that gets returned\n",
    "    \"\"\"\n",
    "    return returns\n",
    "#              Attributes   Returns type \"int\"\n",
    "#                 |   |        |\n",
    "def annotation(value: int) -> int:\n",
    "    return value # < This variable should return int\n",
    "\n",
    "print(f\"1. {docstring.__doc__}\\n\\n\")\n",
    "\n",
    "print(f\"2. {expDoc.__doc__}\")\n",
    "print(f\"2.3. {expDoc(12, 'this')}\\n\\n\")\n",
    "\n",
    "print(f\"3. {annotation(12)}\") \n",
    "print(f\"3.5. {annotation.__annotations__}\") # Annotations stores all of the annotations made inside a function or class"
   ]
  },
  {
   "cell_type": "markdown",
   "metadata": {},
   "source": [
    "__Type annotation__ is not enforced by the _vanilla_ python interpreter, but it is supported by _other_ interpreters a lot of the time"
   ]
  }
 ],
 "metadata": {
  "language_info": {
   "codemirror_mode": {
    "name": "ipython",
    "version": 3
   },
   "file_extension": ".py",
   "mimetype": "text/x-python",
   "name": "python",
   "nbconvert_exporter": "python",
   "pygments_lexer": "ipython3",
   "version": "3.8.0-final"
  },
  "orig_nbformat": 2,
  "kernelspec": {
   "name": "python38032bit7e6f30da257c402dacd5e88b4f10cd30",
   "display_name": "Python 3.8.0 32-bit"
  }
 },
 "nbformat": 4,
 "nbformat_minor": 2
}